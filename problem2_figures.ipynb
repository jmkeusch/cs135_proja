{
 "cells": [
  {
   "cell_type": "code",
   "execution_count": 1,
   "metadata": {},
   "outputs": [],
   "source": [
    "# import plotting libraries\n",
    "import matplotlib\n",
    "import matplotlib.pyplot as plt\n",
    "\n",
    "%matplotlib inline\n",
    "plt.style.use('seaborn-v0_8') # pretty matplotlib plots\n",
    "\n",
    "import seaborn as sns\n",
    "sns.set_theme('notebook', style='whitegrid', font_scale=1.25)\n",
    "\n",
    "# autoload changes in other files, so you don't have to restart the Jupyter kernel each time you make a change to the imported code.\n",
    "%load_ext autoreload\n",
    "%autoreload 2"
   ]
  },
  {
   "cell_type": "code",
   "execution_count": 2,
   "metadata": {},
   "outputs": [],
   "source": [
    "import numpy as np\n",
    "import pandas as pd"
   ]
  },
  {
   "cell_type": "code",
   "execution_count": 56,
   "metadata": {},
   "outputs": [],
   "source": [
    "from experimentloop2 import load_data, grid_search, PARAM_GRID, pipeline\n",
    "from preprocessing import text_col, num_del, num_to_sp\n",
    "from sklearn.pipeline import FunctionTransformer"
   ]
  },
  {
   "cell_type": "code",
   "execution_count": 70,
   "metadata": {},
   "outputs": [],
   "source": [
    "x_NC, y_N = load_data()\n",
    "param_grid = {\n",
    "    \"extract_text\": [\n",
    "        FunctionTransformer(text_col),\n",
    "        FunctionTransformer(num_to_sp),\n",
    "    ],\n",
    "    \"featurize__token_pattern\": [\n",
    "        r\"(?u)\\b\\w+\\b\",\n",
    "        r\"(?u)\\b\\w\\w+\\b\",\n",
    "        r\"(?u)\\b\\w\\w\\w+\\b\",\n",
    "        # r\"(?u)\\b\\w\\w\\w\\w+\\b\",\n",
    "    ],\n",
    "    \"featurize__strip_accents\": [\"unicode\", None],\n",
    "    \"featurize__lowercase\": [True, False],\n",
    "    \"featurize__min_df\": [1,2,3],\n",
    "    \"featurize__max_df\": np.logspace(-2, 0, 11),\n",
    "    \"classify__C\": np.logspace(-3, 3, 15),\n",
    "}\n",
    "search = grid_search(x_NC, y_N, param_grid, return_train_score=False)"
   ]
  },
  {
   "cell_type": "code",
   "execution_count": 68,
   "metadata": {},
   "outputs": [
    {
     "name": "stdout",
     "output_type": "stream",
     "text": [
      "best auroc:  0.8885381944444444\n",
      "vocab size:  4526\n",
      "best params:  {'classify__C': 7.196856730011514, 'extract_text': FunctionTransformer(func=<function text_col at 0x12eddfc70>), 'featurize__lowercase': True, 'featurize__max_df': 0.15848931924611143, 'featurize__min_df': 1, 'featurize__strip_accents': 'unicode', 'featurize__token_pattern': '(?u)\\\\b\\\\w+\\\\b'}\n"
     ]
    }
   ],
   "source": [
    "print(\"best auroc: \", search.best_score_)\n",
    "print(\"vocab size: \", len(search.best_estimator_.named_steps[\"featurize\"].vocabulary_))\n",
    "print(\"best params: \", search.best_params_)"
   ]
  },
  {
   "cell_type": "code",
   "execution_count": 75,
   "metadata": {},
   "outputs": [],
   "source": [
    "x_NC, y_N = load_data()\n",
    "param_grid_l2 = {k: [v] for k, v in search.best_params_.items()}\n",
    "param_grid_l2['classify__C'] = np.logspace(-3, 3, 15)\n",
    "search_l2 = grid_search(x_NC, y_N, param_grid_l2, return_train_score=True)"
   ]
  },
  {
   "cell_type": "code",
   "execution_count": 66,
   "metadata": {},
   "outputs": [
    {
     "name": "stderr",
     "output_type": "stream",
     "text": [
      "/Users/theo/opt/miniconda3/envs/cs135_env/lib/python3.10/site-packages/sklearn/svm/_base.py:1244: ConvergenceWarning: Liblinear failed to converge, increase the number of iterations.\n",
      "  warnings.warn(\n"
     ]
    }
   ],
   "source": [
    "param_grid_l1 = {\n",
    "    \"extract_text\": [FunctionTransformer(text_col)],\n",
    "    \"featurize__token_pattern\": [r\"(?u)\\b\\w+\\b\"],\n",
    "    \"featurize__strip_accents\": [\"unicode\"],\n",
    "    \"featurize__lowercase\": [True],\n",
    "    \"featurize__min_df\": [1],\n",
    "    \"featurize__max_df\": [0.15848931924611143],\n",
    "    \"classify__penalty\": ['l1'],\n",
    "    \"classify__C\": np.logspace(-3, 3, 15),\n",
    "    \"classify__solver\": ['liblinear'],\n",
    "}\n",
    "search_l1 = grid_search(x_NC, y_N, param_grid_l1, return_train_score=True)"
   ]
  },
  {
   "cell_type": "code",
   "execution_count": 67,
   "metadata": {},
   "outputs": [
    {
     "name": "stdout",
     "output_type": "stream",
     "text": [
      "best auroc:  0.8809739583333333\n",
      "vocab size:  4526\n",
      "best params:  {'classify__C': 2.6826957952797246, 'classify__penalty': 'l1', 'classify__solver': 'liblinear', 'extract_text': FunctionTransformer(func=<function text_col at 0x12eddfc70>), 'featurize__lowercase': True, 'featurize__max_df': 0.15848931924611143, 'featurize__min_df': 1, 'featurize__strip_accents': 'unicode', 'featurize__token_pattern': '(?u)\\\\b\\\\w+\\\\b'}\n"
     ]
    }
   ],
   "source": [
    "print(\"best auroc: \", search_l1.best_score_)\n",
    "print(\"vocab size: \", len(search_l1.best_estimator_.named_steps[\"featurize\"].vocabulary_))\n",
    "print(\"best params: \", search_l1.best_params_)"
   ]
  },
  {
   "cell_type": "code",
   "execution_count": null,
   "metadata": {},
   "outputs": [],
   "source": [
    "# first line: data points along C values for train performance\n",
    "# second line: data points along C values for mean validation performance\n",
    "\n",
    "c_grid_log = np.log10(PARAM_GRID['classify__C'])\n",
    "val_performance = search.cv_results_['mean_test_roc_auc']\n",
    "train_performance = search.cv_results_['mean_train_roc_auc']\n",
    "\n",
    "val_all_folds_performance = np.transpose([search.cv_results_[f'split{k}_test_roc_auc'] for k in range(5)])\n",
    "train_all_folds_performance = np.transpose([search.cv_results_[f'split{k}_train_roc_auc'] for k in range(5)])\n",
    "\n",
    "# TODO: make legend explicit so we can avoid duplicate labels\n",
    "plt.title('C-Grid Hyperparameter Search')\n",
    "plt.plot(c_grid_log, val_performance, 'r-', label='validation mean')\n",
    "plt.plot(c_grid_log, val_all_folds_performance, 'r.', label='validation fold')\n",
    "plt.plot(c_grid_log, train_performance, 'b-', label='training mean')\n",
    "plt.plot(c_grid_log, train_all_folds_performance, 'b.', label='train fold')\n",
    "\n",
    "handles, labels = plt.gca().get_legend_handles_labels()\n",
    "by_label = dict(zip(labels, handles))\n",
    "plt.legend(by_label.values(), by_label.keys(), bbox_to_anchor=(1.5, 0.5))\n",
    "\n",
    "plt.ylabel('AUROC')\n",
    "plt.xlabel('$\\log_{10} C$')"
   ]
  }
 ],
 "metadata": {
  "kernelspec": {
   "display_name": "cs135_env",
   "language": "python",
   "name": "python3"
  },
  "language_info": {
   "codemirror_mode": {
    "name": "ipython",
    "version": 3
   },
   "file_extension": ".py",
   "mimetype": "text/x-python",
   "name": "python",
   "nbconvert_exporter": "python",
   "pygments_lexer": "ipython3",
   "version": "3.10.13"
  }
 },
 "nbformat": 4,
 "nbformat_minor": 2
}
