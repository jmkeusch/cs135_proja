{
 "cells": [
  {
   "cell_type": "code",
   "execution_count": 3,
   "metadata": {},
   "outputs": [],
   "source": [
    "import os\n",
    "\n",
    "import pandas as pd\n",
    "import numpy as np\n",
    "\n",
    "from sklearn.feature_extraction.text import CountVectorizer"
   ]
  },
  {
   "cell_type": "code",
   "execution_count": 4,
   "metadata": {},
   "outputs": [],
   "source": [
    "# import plotting libraries\n",
    "import matplotlib\n",
    "import matplotlib.pyplot as plt\n",
    "\n",
    "%matplotlib inline\n",
    "plt.style.use('seaborn-v0_8') # pretty matplotlib plots\n",
    "\n",
    "import seaborn as sns\n",
    "sns.set_theme('notebook', style='whitegrid', font_scale=1.25)\n",
    "\n",
    "# autoload changes in other files, so you don't have to restart the Jupyter kernel each time you make a change to the imported code.\n",
    "%load_ext autoreload\n",
    "%autoreload 2"
   ]
  },
  {
   "cell_type": "code",
   "execution_count": 5,
   "metadata": {},
   "outputs": [
    {
     "name": "stdout",
     "output_type": "stream",
     "text": [
      "Shape of x_train_df: (2400, 2)\n",
      "Shape of y_train_df: (2400, 1)\n",
      "\n",
      "Print three instance from the training set in lists:\n",
      "Input (website, review):\n",
      "[['amazon', 'Oh and I forgot to also mention the weird color effect it has on your phone.'], ['amazon', \"THAT one didn't work either.\"], ['amazon', 'Waste of 13 bucks.']]\n",
      "Label:\n",
      "[0, 0, 0]\n",
      "\n",
      "\n",
      "More data from training set:\n",
      "row     0 | y = 0 | Oh and I forgot to also mention the weird color effect it has on your phone.\n",
      "row     1 | y = 0 | THAT one didn't work either.\n",
      "row     2 | y = 0 | Waste of 13 bucks.\n",
      "row     3 | y = 0 | Product is useless, since it does not have enough charging current to charge the 2 cellphones I was planning to use it with.\n",
      "row     4 | y = 0 | None of the three sizes they sent with the headset would stay in my ears.\n",
      "...\n",
      "row  2395 | y = 1 | The sweet potato fries were very nice and seasoned well.\n",
      "row  2396 | y = 1 | I could eat their bruschetta all day it is devine.\n",
      "row  2397 | y = 1 | Ambience is perfect.\n",
      "row  2398 | y = 1 | We ordered the duck rare and it was pink and tender on the inside with a nice char on the outside.\n",
      "row  2399 | y = 1 | Service was nice and the company was better!\n"
     ]
    }
   ],
   "source": [
    "from load_train_data import overview_data\n",
    "DATA_PATH = './data_reviews'\n",
    "\n",
    "x_train_nf = pd.read_csv(os.path.join(DATA_PATH, 'x_train.csv'))\n",
    "y_train_n = pd.read_csv(os.path.join(DATA_PATH, 'y_train.csv'))\n",
    "\n",
    "overview_data(x_train_nf, y_train_n)"
   ]
  },
  {
   "cell_type": "code",
   "execution_count": 6,
   "metadata": {},
   "outputs": [
    {
     "data": {
      "text/plain": [
       "0       Oh and I forgot to also mention the weird colo...\n",
       "1                            THAT one didn't work either.\n",
       "2                                      Waste of 13 bucks.\n",
       "3       Product is useless, since it does not have eno...\n",
       "4       None of the three sizes they sent with the hea...\n",
       "                              ...                        \n",
       "2395    The sweet potato fries were very nice and seas...\n",
       "2396    I could eat their bruschetta all day it is dev...\n",
       "2397                                 Ambience is perfect.\n",
       "2398    We ordered the duck rare and it was pink and t...\n",
       "2399         Service was nice and the company was better!\n",
       "Name: text, Length: 2400, dtype: object"
      ]
     },
     "execution_count": 6,
     "metadata": {},
     "output_type": "execute_result"
    }
   ],
   "source": [
    "x_train_nf.loc[:, 'text']"
   ]
  },
  {
   "cell_type": "code",
   "execution_count": 7,
   "metadata": {},
   "outputs": [],
   "source": [
    "import sklearn.linear_model\n",
    "from sklearn.feature_extraction.text import CountVectorizer"
   ]
  },
  {
   "cell_type": "code",
   "execution_count": 8,
   "metadata": {},
   "outputs": [
    {
     "data": {
      "text/plain": [
       "(2400, 4510)"
      ]
     },
     "execution_count": 8,
     "metadata": {},
     "output_type": "execute_result"
    }
   ],
   "source": [
    "vectorizer = CountVectorizer()\n",
    "corpus = x_train_nf.loc[:, 'text']\n",
    "input_vectors_nv = vectorizer.fit_transform(corpus)\n",
    "input_vectors_nv.shape"
   ]
  },
  {
   "cell_type": "code",
   "execution_count": 24,
   "metadata": {},
   "outputs": [
    {
     "data": {
      "text/plain": [
       "(1, 4510)"
      ]
     },
     "execution_count": 24,
     "metadata": {},
     "output_type": "execute_result"
    }
   ],
   "source": [
    "input_vectors_nv[0]"
   ]
  },
  {
   "cell_type": "code",
   "execution_count": null,
   "metadata": {},
   "outputs": [],
   "source": []
  }
 ],
 "metadata": {
  "kernelspec": {
   "display_name": "cs135_env",
   "language": "python",
   "name": "python3"
  },
  "language_info": {
   "codemirror_mode": {
    "name": "ipython",
    "version": 3
   },
   "file_extension": ".py",
   "mimetype": "text/x-python",
   "name": "python",
   "nbconvert_exporter": "python",
   "pygments_lexer": "ipython3",
   "version": "3.10.13"
  }
 },
 "nbformat": 4,
 "nbformat_minor": 2
}
